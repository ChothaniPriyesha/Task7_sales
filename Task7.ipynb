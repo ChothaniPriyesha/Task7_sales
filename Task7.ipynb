{
 "cells": [
  {
   "cell_type": "code",
   "execution_count": 6,
   "id": "cd1a1967-4df7-4e1a-afef-61cf87dd6723",
   "metadata": {},
   "outputs": [
    {
     "name": "stdout",
     "output_type": "stream",
     "text": [
      "Database created successfully....\n",
      "Database Insert successfully....\n",
      "\n",
      " Data in 'sales' table:\n",
      "      product  quantity  price\n",
      "0   Product A        10   50.0\n",
      "1   Product B         5  100.0\n",
      "2   Product C         8   75.0\n",
      "3   Product A         7   50.0\n",
      "4   Product B         3  100.0\n",
      "5   Product C         6   75.0\n",
      "6   Product A        10   50.0\n",
      "7   Product B         5  100.0\n",
      "8   Product C         8   75.0\n",
      "9   Product A         7   50.0\n",
      "10  Product B         3  100.0\n",
      "11  Product C         6   75.0\n",
      "12  Product A        10   50.0\n",
      "13  Product B         5  100.0\n",
      "14  Product C         8   75.0\n",
      "15  Product A         7   50.0\n",
      "16  Product B         3  100.0\n",
      "17  Product C         6   75.0\n",
      "18  Product A        10   50.0\n",
      "19  Product B         5  100.0\n",
      "20  Product C         8   75.0\n",
      "21  Product A         7   50.0\n",
      "22  Product B         3  100.0\n",
      "23  Product C         6   75.0\n"
     ]
    }
   ],
   "source": [
    "import sqlite3\n",
    "import pandas as pd\n",
    "\n",
    "conn = sqlite3.connect(\"sales_data.db\")\n",
    "cursor = conn.cursor()\n",
    "\n",
    "cursor.execute(\"\"\"\n",
    "CREATE TABLE IF NOT EXISTS sales (\n",
    "    product char(200),\n",
    "    quantity int,\n",
    "    price REAL\n",
    ")\n",
    "\"\"\")\n",
    "print(\"Database created successfully....\")\n",
    "\n",
    "sample_data = [\n",
    "    ('Product A', 10, 50.0),\n",
    "    ('Product B', 5, 100.0),\n",
    "    ('Product C', 8, 75.0),\n",
    "    ('Product A', 7, 50.0),\n",
    "    ('Product B', 3, 100.0),\n",
    "    ('Product C', 6, 75.0)\n",
    "]\n",
    "\n",
    "cursor.executemany(\"INSERT INTO sales (product, quantity, price) VALUES (?, ?, ?)\", sample_data)\n",
    "print(\"Database Insert successfully....\")\n",
    "\n",
    "df = pd.read_sql_query(\"SELECT * FROM sales;\", conn)\n",
    "print(\"\\n Data in 'sales' table:\")\n",
    "print(df)\n",
    "\n",
    "conn.commit()\n",
    "conn.close()\n",
    "\n"
   ]
  },
  {
   "cell_type": "code",
   "execution_count": 9,
   "id": "f7495e2a-a3fb-4178-90bb-6f7def09c2f3",
   "metadata": {},
   "outputs": [
    {
     "name": "stdout",
     "output_type": "stream",
     "text": [
      " Sales Summary:\n",
      "\n",
      "      product  total_qty  revenue\n",
      "0  Product A         68   3400.0\n",
      "1  Product B         32   3200.0\n",
      "2  Product C         56   4200.0\n"
     ]
    },
    {
     "data": {
      "image/png": "[encoded data removed]",
      "text/plain": [
       "<Figure size 640x480 with 1 Axes>"
      ]
     },
     "metadata": {},
     "output_type": "display_data"
    }
   ],
   "source": [
    "\n",
    "import sqlite3\n",
    "import pandas as pd\n",
    "import matplotlib.pyplot as plt\n",
    "\n",
    "conn = sqlite3.connect(\"sales_data.db\")\n",
    "\n",
    "query = \"\"\"\n",
    "SELECT \n",
    "    product, \n",
    "    SUM(quantity) AS total_qty, \n",
    "    SUM(quantity * price) AS revenue\n",
    "FROM sales\n",
    "GROUP BY product\n",
    "\"\"\"\n",
    "\n",
    "df = pd.read_sql_query(query, conn)\n",
    "conn.close()\n",
    "\n",
    "print(\" Sales Summary:\")\n",
    "print(\"\\n\", df)\n",
    "\n",
    "df.plot(kind='bar', x='product', y='revenue', color='skyblue', legend=False)\n",
    "plt.title(\"Revenue by Product\")\n",
    "plt.xlabel(\"Product\")\n",
    "plt.ylabel(\"Revenue (₹)\")\n",
    "plt.tight_layout()\n",
    "\n",
    "plt.savefig(\"sales_chart.png\") \n",
    "plt.show()\n"
   ]
  },
  {
   "cell_type": "code",
   "execution_count": null,
   "id": "816762e9-6785-4613-87a5-00a1f08b9812",
   "metadata": {},
   "outputs": [],
   "source": []
  }
 ],
 "metadata": {
  "kernelspec": {
   "display_name": "anaconda-panel-2023.05-py310",
   "language": "python",
   "name": "conda-env-anaconda-panel-2023.05-py310-py"
  },
  "language_info": {
   "codemirror_mode": {
    "name": "ipython",
    "version": 3
   },
   "file_extension": ".py",
   "mimetype": "text/x-python",
   "name": "python",
   "nbconvert_exporter": "python",
   "pygments_lexer": "ipython3",
   "version": "3.11.5"
  }
 },
 "nbformat": 4,
 "nbformat_minor": 5
}
